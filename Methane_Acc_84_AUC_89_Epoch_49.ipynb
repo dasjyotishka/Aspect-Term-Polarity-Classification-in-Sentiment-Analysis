{
  "nbformat": 4,
  "nbformat_minor": 0,
  "metadata": {
    "colab": {
      "provenance": [],
      "gpuType": "A100",
      "include_colab_link": true
    },
    "kernelspec": {
      "name": "python3",
      "display_name": "Python 3"
    },
    "language_info": {
      "name": "python"
    },
    "accelerator": "GPU",
    "gpuClass": "standard"
  },
  "cells": [
    {
      "cell_type": "markdown",
      "metadata": {
        "id": "view-in-github",
        "colab_type": "text"
      },
      "source": [
        "<a href=\"https://colab.research.google.com/github/dasjyotishka/Aspect-Term-Polarity-Classification-in-Sentiment-Analysis/blob/main/Methane_Acc_84_AUC_89_Epoch_49.ipynb\" target=\"_parent\"><img src=\"https://colab.research.google.com/assets/colab-badge.svg\" alt=\"Open In Colab\"/></a>"
      ]
    },
    {
      "cell_type": "markdown",
      "source": [
        "#Imports"
      ],
      "metadata": {
        "id": "5xa6x1iVfAdY"
      }
    },
    {
      "cell_type": "code",
      "source": [
        "from google.colab import drive \n",
        "drive.mount('/content/drive',)"
      ],
      "metadata": {
        "id": "oQ9PDJWb4qNV",
        "colab": {
          "base_uri": "https://localhost:8080/"
        },
        "outputId": "13882dd7-00d3-4591-bc51-04585b9066fe"
      },
      "execution_count": 52,
      "outputs": [
        {
          "output_type": "stream",
          "name": "stdout",
          "text": [
            "Drive already mounted at /content/drive; to attempt to forcibly remount, call drive.mount(\"/content/drive\", force_remount=True).\n"
          ]
        }
      ]
    },
    {
      "cell_type": "code",
      "source": [
        "from PIL import Image\n",
        "import torch\n",
        "import torch.nn as nn\n",
        "import torch.optim as optim\n",
        "from torch.utils.data import DataLoader, Dataset\n",
        "import torchvision.transforms as transforms\n",
        "from sklearn.metrics import roc_auc_score, accuracy_score\n",
        "import numpy as np\n",
        "import matplotlib.pyplot as plt\n",
        "import os\n",
        "import matplotlib.pyplot as plt"
      ],
      "metadata": {
        "id": "65MzHqRp9fiM"
      },
      "execution_count": 53,
      "outputs": []
    },
    {
      "cell_type": "code",
      "execution_count": 54,
      "metadata": {
        "id": "qMpUhNtzxaO1"
      },
      "outputs": [],
      "source": [
        "# Define hyperparameters\n",
        "#batch_size = 64\n",
        "batch_size = 32\n",
        "learning_rate = 0.001\n",
        "num_epochs = 50\n",
        "device = torch.device(\"cuda\" if torch.cuda.is_available() else \"cpu\")\n",
        "\n",
        "# Define dataset class\n",
        "class PlumeDataset(Dataset):\n",
        "    def __init__(self, plume_dir, no_plume_dir, transform=None):\n",
        "        self.plume_images = [os.path.join(plume_dir, img) for img in os.listdir(plume_dir)]\n",
        "        self.no_plume_images = [os.path.join(no_plume_dir, img) for img in os.listdir(no_plume_dir)]\n",
        "        self.images = self.plume_images + self.no_plume_images\n",
        "        self.targets = [1] * len(self.plume_images) + [0] * len(self.no_plume_images)\n",
        "        self.transform = transform\n",
        "    \n",
        "    def __len__(self):\n",
        "        return len(self.images)\n",
        "    \n",
        "    def __getitem__(self, idx):\n",
        "        image = Image.open(self.images[idx]).convert('L')\n",
        "        target = self.targets[idx]\n",
        "        if self.transform:\n",
        "            image = self.transform(image)\n",
        "        return image, target\n",
        "\n",
        "# Define data transforms\n",
        "train_transforms = transforms.Compose([\n",
        "    transforms.RandomHorizontalFlip(),\n",
        "    transforms.RandomVerticalFlip(),\n",
        "    transforms.RandomRotation(degrees=15),\n",
        "    transforms.ToTensor(),\n",
        "    transforms.Normalize(mean=[0.5], std=[0.5])\n",
        "])\n",
        "\n",
        "test_transforms = transforms.Compose([\n",
        "    transforms.ToTensor(),\n",
        "    transforms.Normalize(mean=[0.5], std=[0.5])\n",
        "])\n",
        "\n",
        "\n"
      ]
    },
    {
      "cell_type": "markdown",
      "source": [
        "#Dataloaders"
      ],
      "metadata": {
        "id": "wmFlpOMtfEnh"
      }
    },
    {
      "cell_type": "markdown",
      "source": [
        "The original dataset contained 214 images containing a methane plume, and 214 images not containing a methane plume. Now, to train our model we created four additional folders. The plume_training folders contain 192 images containg a methane plume and the no_plume_training folder has 192 images not containing a methane plume. The plume_testing folders contain 22 images containg a methane plume and the no_plume_testing folder contains 22 images not containing a methane plume selected manually at random."
      ],
      "metadata": {
        "id": "r3TbxS-CfMrY"
      }
    },
    {
      "cell_type": "code",
      "source": [
        "# Create datasets and dataloaders\n",
        "train_dataset = PlumeDataset('/content/drive/MyDrive/QB/plume_training', '/content/drive/MyDrive/QB/no_plume_training', transform=train_transforms)\n",
        "test_dataset = PlumeDataset('/content/drive/MyDrive/QB/plume_testing', '/content/drive/MyDrive/QB/no_plume_testing', transform=test_transforms)\n",
        "\n",
        "train_loader = DataLoader(train_dataset, batch_size=batch_size, shuffle=True)\n",
        "test_loader = DataLoader(test_dataset, batch_size=batch_size, shuffle=False)\n",
        "\n",
        "# Define CNN model\n",
        "class PlumeCNN(nn.Module):\n",
        "    def __init__(self):\n",
        "        super(PlumeCNN, self).__init__()\n",
        "        self.conv1 = nn.Conv2d(1, 32, kernel_size=3, stride=1, padding=1)\n",
        "        self.bn1 = nn.BatchNorm2d(32)\n",
        "        self.pool = nn.MaxPool2d(kernel_size=2, stride=2)\n",
        "        self.conv2 = nn.Conv2d(32, 64, kernel_size=3, stride=1, padding=1)\n",
        "        self.bn2 = nn.BatchNorm2d(64)\n",
        "        self.fc1 = nn.Linear(64 * 16 * 16, 128)\n",
        "        self.dropout = nn.Dropout(p=0.5)\n",
        "        self.fc2 = nn.Linear(128, 1)\n",
        "        \n",
        "    def forward(self, x):\n",
        "        x = self.pool(self.bn1(nn.functional.relu(self.conv1(x))))\n",
        "        x = self.pool(self.bn2(nn.functional.relu(self.conv2(x))))\n",
        "        x = x.view(-1, 64 * 16 * 16)\n",
        "        x = self.dropout(nn.functional.relu(self.fc1(x)))\n",
        "        x = nn.functional.sigmoid(self.fc2(x))\n",
        "        return x\n",
        "\n",
        "\n"
      ],
      "metadata": {
        "id": "zi19jQ4qxiUc"
      },
      "execution_count": 55,
      "outputs": []
    },
    {
      "cell_type": "code",
      "source": [
        "# Initialize model and optimizer\n",
        "model = PlumeCNN().to(device)\n",
        "criterion = nn.BCELoss()\n",
        "optimizer = optim.Adam(model.parameters(), lr=learning_rate)"
      ],
      "metadata": {
        "id": "ww2fEbmDxv2w"
      },
      "execution_count": 56,
      "outputs": []
    },
    {
      "cell_type": "code",
      "source": [
        "def evaluate(model, loader):\n",
        "    model.eval()\n",
        "    targets = []\n",
        "    #Obtain a list of prediction scores. If the prediction score >= 0.5, it means the image contains a plume, else not\n",
        "    predictions = []\n",
        "    with torch.no_grad():\n",
        "        for images, labels in loader:\n",
        "            images = images.to(device)\n",
        "            labels = labels.to(device)\n",
        "            outputs = model(images).squeeze()\n",
        "            predictions += outputs.cpu().tolist()\n",
        "            targets += labels.cpu().tolist()\n",
        "    #accuracy = np.mean(np.array(predictions) > 0.5) * 100\n",
        "    accuracy = accuracy_score(targets, [round(p) for p in predictions])\n",
        "    auc_score = roc_auc_score(targets, predictions) * 100\n",
        "    return accuracy, auc_score\n"
      ],
      "metadata": {
        "id": "pISM2VybxzQs"
      },
      "execution_count": 57,
      "outputs": []
    },
    {
      "cell_type": "markdown",
      "source": [
        "#Training the model and get test accuracy and AUC score"
      ],
      "metadata": {
        "id": "lkkWbU7yfHSw"
      }
    },
    {
      "cell_type": "code",
      "source": [
        "# Train the model\n",
        "for epoch in range(num_epochs):\n",
        "    model.train()\n",
        "    train_loss = 0.0\n",
        "    for images, labels in train_loader:\n",
        "        images = images.to(device)\n",
        "        labels = labels.to(device)\n",
        "        optimizer.zero_grad()\n",
        "        outputs = model(images).squeeze()\n",
        "        loss = criterion(outputs, labels.float())\n",
        "        loss.backward()\n",
        "        optimizer.step()\n",
        "        train_loss += loss.item() * images.size(0)\n",
        "    train_loss /= len(train_dataset)\n",
        "    test_accuracy, test_auc_score = evaluate(model, test_loader)\n",
        "    print(f\"Epoch {epoch+1}/{num_epochs}, Train Loss: {train_loss:.4f}, Test Accuracy: {test_accuracy:.2f}, Test AUC: {test_auc_score:.2f}%\")\n"
      ],
      "metadata": {
        "colab": {
          "base_uri": "https://localhost:8080/"
        },
        "id": "gQYnvpaex0Kr",
        "outputId": "fe2c5939-c83d-4003-87f4-5d41e3ebd7dc"
      },
      "execution_count": 58,
      "outputs": [
        {
          "output_type": "stream",
          "name": "stdout",
          "text": [
            "Epoch 1/50, Train Loss: 1.2479, Test Accuracy: 0.64, Test AUC: 68.80%\n",
            "Epoch 2/50, Train Loss: 0.8618, Test Accuracy: 0.55, Test AUC: 59.09%\n",
            "Epoch 3/50, Train Loss: 0.7389, Test Accuracy: 0.64, Test AUC: 76.86%\n",
            "Epoch 4/50, Train Loss: 0.6053, Test Accuracy: 0.68, Test AUC: 75.62%\n",
            "Epoch 5/50, Train Loss: 0.6163, Test Accuracy: 0.61, Test AUC: 73.55%\n",
            "Epoch 6/50, Train Loss: 0.5800, Test Accuracy: 0.61, Test AUC: 70.25%\n",
            "Epoch 7/50, Train Loss: 0.6365, Test Accuracy: 0.59, Test AUC: 70.45%\n",
            "Epoch 8/50, Train Loss: 0.5745, Test Accuracy: 0.66, Test AUC: 74.17%\n",
            "Epoch 9/50, Train Loss: 0.5625, Test Accuracy: 0.61, Test AUC: 71.69%\n",
            "Epoch 10/50, Train Loss: 0.5535, Test Accuracy: 0.66, Test AUC: 77.07%\n",
            "Epoch 11/50, Train Loss: 0.5214, Test Accuracy: 0.75, Test AUC: 83.26%\n",
            "Epoch 12/50, Train Loss: 0.5227, Test Accuracy: 0.75, Test AUC: 79.96%\n",
            "Epoch 13/50, Train Loss: 0.5364, Test Accuracy: 0.64, Test AUC: 76.24%\n",
            "Epoch 14/50, Train Loss: 0.4989, Test Accuracy: 0.61, Test AUC: 81.40%\n",
            "Epoch 15/50, Train Loss: 0.5029, Test Accuracy: 0.73, Test AUC: 79.13%\n",
            "Epoch 16/50, Train Loss: 0.4867, Test Accuracy: 0.75, Test AUC: 77.27%\n",
            "Epoch 17/50, Train Loss: 0.4941, Test Accuracy: 0.73, Test AUC: 78.31%\n",
            "Epoch 18/50, Train Loss: 0.4472, Test Accuracy: 0.73, Test AUC: 76.45%\n",
            "Epoch 19/50, Train Loss: 0.4959, Test Accuracy: 0.64, Test AUC: 77.48%\n",
            "Epoch 20/50, Train Loss: 0.4829, Test Accuracy: 0.66, Test AUC: 81.61%\n",
            "Epoch 21/50, Train Loss: 0.4451, Test Accuracy: 0.70, Test AUC: 80.58%\n",
            "Epoch 22/50, Train Loss: 0.4516, Test Accuracy: 0.77, Test AUC: 86.36%\n",
            "Epoch 23/50, Train Loss: 0.4230, Test Accuracy: 0.73, Test AUC: 85.95%\n",
            "Epoch 24/50, Train Loss: 0.4335, Test Accuracy: 0.82, Test AUC: 86.16%\n",
            "Epoch 25/50, Train Loss: 0.3888, Test Accuracy: 0.77, Test AUC: 88.22%\n",
            "Epoch 26/50, Train Loss: 0.3903, Test Accuracy: 0.75, Test AUC: 87.60%\n",
            "Epoch 27/50, Train Loss: 0.3588, Test Accuracy: 0.77, Test AUC: 83.26%\n",
            "Epoch 28/50, Train Loss: 0.4391, Test Accuracy: 0.66, Test AUC: 84.92%\n",
            "Epoch 29/50, Train Loss: 0.3700, Test Accuracy: 0.77, Test AUC: 83.88%\n",
            "Epoch 30/50, Train Loss: 0.3720, Test Accuracy: 0.77, Test AUC: 85.54%\n",
            "Epoch 31/50, Train Loss: 0.3428, Test Accuracy: 0.80, Test AUC: 84.30%\n",
            "Epoch 32/50, Train Loss: 0.4137, Test Accuracy: 0.82, Test AUC: 86.78%\n",
            "Epoch 33/50, Train Loss: 0.3772, Test Accuracy: 0.75, Test AUC: 84.09%\n",
            "Epoch 34/50, Train Loss: 0.3728, Test Accuracy: 0.75, Test AUC: 86.57%\n",
            "Epoch 35/50, Train Loss: 0.3267, Test Accuracy: 0.77, Test AUC: 85.95%\n",
            "Epoch 36/50, Train Loss: 0.3592, Test Accuracy: 0.82, Test AUC: 85.74%\n",
            "Epoch 37/50, Train Loss: 0.4133, Test Accuracy: 0.77, Test AUC: 86.98%\n",
            "Epoch 38/50, Train Loss: 0.3784, Test Accuracy: 0.80, Test AUC: 86.57%\n",
            "Epoch 39/50, Train Loss: 0.3727, Test Accuracy: 0.75, Test AUC: 84.50%\n",
            "Epoch 40/50, Train Loss: 0.3733, Test Accuracy: 0.77, Test AUC: 86.16%\n",
            "Epoch 41/50, Train Loss: 0.3053, Test Accuracy: 0.77, Test AUC: 85.74%\n",
            "Epoch 42/50, Train Loss: 0.2977, Test Accuracy: 0.77, Test AUC: 84.09%\n",
            "Epoch 43/50, Train Loss: 0.2877, Test Accuracy: 0.80, Test AUC: 84.09%\n",
            "Epoch 44/50, Train Loss: 0.2794, Test Accuracy: 0.73, Test AUC: 86.78%\n",
            "Epoch 45/50, Train Loss: 0.2858, Test Accuracy: 0.77, Test AUC: 88.22%\n",
            "Epoch 46/50, Train Loss: 0.3077, Test Accuracy: 0.77, Test AUC: 89.05%\n",
            "Epoch 47/50, Train Loss: 0.3181, Test Accuracy: 0.73, Test AUC: 88.84%\n",
            "Epoch 48/50, Train Loss: 0.2637, Test Accuracy: 0.75, Test AUC: 87.40%\n",
            "Epoch 49/50, Train Loss: 0.2935, Test Accuracy: 0.70, Test AUC: 84.30%\n",
            "Epoch 50/50, Train Loss: 0.3351, Test Accuracy: 0.75, Test AUC: 86.98%\n"
          ]
        }
      ]
    },
    {
      "cell_type": "code",
      "source": [
        "best_model_path = \"/content/drive/MyDrive/QB/models/model_Epoch_50_AUC_90.pt\"\n",
        "torch.save(model.state_dict(), best_model_path)"
      ],
      "metadata": {
        "id": "kQXgK-eIil4M"
      },
      "execution_count": 59,
      "outputs": []
    },
    {
      "cell_type": "markdown",
      "source": [
        "#Upload one image and get the classification score"
      ],
      "metadata": {
        "id": "h27oHoo0jLz_"
      }
    },
    {
      "cell_type": "code",
      "source": [
        "from torchvision import transforms\n",
        "from PIL import Image\n",
        "import torch\n",
        "\n",
        "# Define the image transform\n",
        "last_transforms = transforms.Compose([\n",
        "    transforms.Resize((64, 64)),\n",
        "    transforms.ToTensor()\n",
        "])\n",
        "\n",
        "# Load the saved model\n",
        "model = PlumeCNN()\n",
        "model.load_state_dict(torch.load(\"/content/drive/MyDrive/QB/models/model_Epoch_50_AUC_90.pt\"))\n",
        "model.eval()\n",
        "\n",
        "# Load the input image\n",
        "image = Image.open('/content/plume (208).tif')\n",
        "\n",
        "# Apply the transform on the input image\n",
        "image_tensor = last_transforms(image).float()\n",
        "\n",
        "# Normalize the image tensor\n",
        "image_tensor = transforms.Normalize(\n",
        "    mean=[0.5],\n",
        "    std=[0.5]\n",
        ")(image_tensor)\n",
        "\n",
        "# Add a batch dimension to the image tensor\n",
        "image_tensor = image_tensor.unsqueeze(0)\n",
        "\n",
        "# Pass the image tensor through the model to get the classification result\n",
        "with torch.no_grad():\n",
        "\n",
        "    #If sigmoid_output>=0.5, then positive, else negative\n",
        "    output = model(image_tensor)\n",
        "\n",
        "    print(\"Output: \"+ str(output))\n",
        "\n",
        "    sigmoid_output = torch.sigmoid(output).item()\n",
        "    print(\"sigmoid_output: \"+ str(sigmoid_output))\n",
        "\n",
        "    #If prediction=1, then positive, else negative\n",
        "    prediction = torch.sigmoid(output).round().item()\n",
        "    print(\"prediction: \"+ str(prediction))\n",
        "\n",
        "# Print the predicted classification result\n",
        "print(f'The image is classified as {\"Positive\" if prediction==1 else \"Negative\"}')\n"
      ],
      "metadata": {
        "colab": {
          "base_uri": "https://localhost:8080/"
        },
        "id": "K5l9XIssj8XW",
        "outputId": "eb8ec909-ca6c-4a93-8104-cc33a0612354"
      },
      "execution_count": 61,
      "outputs": [
        {
          "output_type": "stream",
          "name": "stdout",
          "text": [
            "Output: tensor([[1.]])\n",
            "sigmoid_output: 0.7310585975646973\n",
            "prediction: 1.0\n",
            "The image is classified as Positive\n"
          ]
        }
      ]
    }
  ]
}